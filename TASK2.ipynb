{
 "cells": [
  {
   "attachments": {},
   "cell_type": "markdown",
   "metadata": {},
   "source": [
    "import pandas as pd\n",
    "from sklearn.model_selection import train_test_split\n",
    "from sklearn.linear_model import LinearRegression\n",
    "from sklearn.metrics import mean_squared_error, r2_score\n",
    "from sklearn.preprocessing import MultiLabelBinarizer\n",
    "\n",
    "# Load the movie dataset\n",
    "movie_data = pd.read_csv('movie_data.csv')  # Replace with the actual path to your dataset\n",
    "\n",
    "# Explore the dataset\n",
    "print(movie_data.head())\n",
    "\n",
    "# Preprocess the data\n",
    "# Assuming you have a 'Genre', 'Director', and 'Actors' column\n",
    "\n",
    "# Convert genres, directors, and actors into binary columns\n",
    "mlb = MultiLabelBinarizer()\n",
    "\n",
    "genres_encoded = pd.DataFrame(mlb.fit_transform(movie_data['Genre'].apply(lambda x: x.split(','))), columns=mlb.classes_, index=movie_data.index)\n",
    "directors_encoded = pd.DataFrame(mlb.fit_transform(movie_data['Director'].apply(lambda x: x.split(','))), columns=mlb.classes_, index=movie_data.index)\n",
    "actors_encoded = pd.DataFrame(mlb.fit_transform(movie_data['Actors'].apply(lambda x: x.split(','))), columns=mlb.classes_, index=movie_data.index)\n",
    "\n",
    "# Combine the encoded features with the original dataset\n",
    "movie_data = pd.concat([movie_data, genres_encoded, directors_encoded, actors_encoded], axis=1)\n",
    "\n",
    "# Select features and target variable\n",
    "features = movie_data.drop(['Title', 'Genre', 'Director', 'Actors', 'Rating'], axis=1)\n",
    "target = movie_data['Rating']\n",
    "\n",
    "# Split the data into training and testing sets\n",
    "X_train, X_test, y_train, y_test = train_test_split(features, target, test_size=0.2, random_state=42)\n",
    "\n",
    "# Build and train the model\n",
    "model = LinearRegression()\n",
    "model.fit(X_train, y_train)\n",
    "\n",
    "# Make predictions\n",
    "y_pred = model.predict(X_test)\n",
    "\n",
    "# Evaluate the model\n",
    "mse = mean_squared_error(y_test, y_pred)\n",
    "r2 = r2_score(y_test, y_pred)\n",
    "\n",
    "print(f'Mean Squared Error: {mse}')\n",
    "print(f'R-squared: {r2}')\n"
   ]
  }
 ],
 "metadata": {
  "language_info": {
   "name": "python"
  },
  "orig_nbformat": 4
 },
 "nbformat": 4,
 "nbformat_minor": 2
}
